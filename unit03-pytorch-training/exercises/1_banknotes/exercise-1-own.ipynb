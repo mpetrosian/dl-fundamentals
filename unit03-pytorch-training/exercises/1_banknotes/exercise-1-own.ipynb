{
 "cells": [
  {
   "cell_type": "code",
   "execution_count": 41,
   "id": "a43d5416",
   "metadata": {},
   "outputs": [],
   "source": [
    "import pandas as pd \n",
    "import numpy as np \n",
    "import torch \n",
    "import torch.nn.functional as fn \n",
    "from torch.autograd import grad\n",
    "from torch.utils.data import DataLoader\n",
    "from torch.utils.data import Dataset"
   ]
  },
  {
   "cell_type": "code",
   "execution_count": 12,
   "id": "64019043",
   "metadata": {},
   "outputs": [],
   "source": [
    "df = pd.read_csv('data_banknote_authentication.txt', sep=',', header=None)"
   ]
  },
  {
   "cell_type": "code",
   "execution_count": 14,
   "id": "9ae0183a",
   "metadata": {},
   "outputs": [
    {
     "data": {
      "text/html": [
       "<div>\n",
       "<style scoped>\n",
       "    .dataframe tbody tr th:only-of-type {\n",
       "        vertical-align: middle;\n",
       "    }\n",
       "\n",
       "    .dataframe tbody tr th {\n",
       "        vertical-align: top;\n",
       "    }\n",
       "\n",
       "    .dataframe thead th {\n",
       "        text-align: right;\n",
       "    }\n",
       "</style>\n",
       "<table border=\"1\" class=\"dataframe\">\n",
       "  <thead>\n",
       "    <tr style=\"text-align: right;\">\n",
       "      <th></th>\n",
       "      <th>0</th>\n",
       "      <th>1</th>\n",
       "      <th>2</th>\n",
       "      <th>3</th>\n",
       "      <th>4</th>\n",
       "    </tr>\n",
       "  </thead>\n",
       "  <tbody>\n",
       "    <tr>\n",
       "      <th>count</th>\n",
       "      <td>1372.000000</td>\n",
       "      <td>1372.000000</td>\n",
       "      <td>1372.000000</td>\n",
       "      <td>1372.000000</td>\n",
       "      <td>1372.000000</td>\n",
       "    </tr>\n",
       "    <tr>\n",
       "      <th>mean</th>\n",
       "      <td>0.433735</td>\n",
       "      <td>1.922353</td>\n",
       "      <td>1.397627</td>\n",
       "      <td>-1.191657</td>\n",
       "      <td>0.444606</td>\n",
       "    </tr>\n",
       "    <tr>\n",
       "      <th>std</th>\n",
       "      <td>2.842763</td>\n",
       "      <td>5.869047</td>\n",
       "      <td>4.310030</td>\n",
       "      <td>2.101013</td>\n",
       "      <td>0.497103</td>\n",
       "    </tr>\n",
       "    <tr>\n",
       "      <th>min</th>\n",
       "      <td>-7.042100</td>\n",
       "      <td>-13.773100</td>\n",
       "      <td>-5.286100</td>\n",
       "      <td>-8.548200</td>\n",
       "      <td>0.000000</td>\n",
       "    </tr>\n",
       "    <tr>\n",
       "      <th>25%</th>\n",
       "      <td>-1.773000</td>\n",
       "      <td>-1.708200</td>\n",
       "      <td>-1.574975</td>\n",
       "      <td>-2.413450</td>\n",
       "      <td>0.000000</td>\n",
       "    </tr>\n",
       "    <tr>\n",
       "      <th>50%</th>\n",
       "      <td>0.496180</td>\n",
       "      <td>2.319650</td>\n",
       "      <td>0.616630</td>\n",
       "      <td>-0.586650</td>\n",
       "      <td>0.000000</td>\n",
       "    </tr>\n",
       "    <tr>\n",
       "      <th>75%</th>\n",
       "      <td>2.821475</td>\n",
       "      <td>6.814625</td>\n",
       "      <td>3.179250</td>\n",
       "      <td>0.394810</td>\n",
       "      <td>1.000000</td>\n",
       "    </tr>\n",
       "    <tr>\n",
       "      <th>max</th>\n",
       "      <td>6.824800</td>\n",
       "      <td>12.951600</td>\n",
       "      <td>17.927400</td>\n",
       "      <td>2.449500</td>\n",
       "      <td>1.000000</td>\n",
       "    </tr>\n",
       "  </tbody>\n",
       "</table>\n",
       "</div>"
      ],
      "text/plain": [
       "                 0            1            2            3            4\n",
       "count  1372.000000  1372.000000  1372.000000  1372.000000  1372.000000\n",
       "mean      0.433735     1.922353     1.397627    -1.191657     0.444606\n",
       "std       2.842763     5.869047     4.310030     2.101013     0.497103\n",
       "min      -7.042100   -13.773100    -5.286100    -8.548200     0.000000\n",
       "25%      -1.773000    -1.708200    -1.574975    -2.413450     0.000000\n",
       "50%       0.496180     2.319650     0.616630    -0.586650     0.000000\n",
       "75%       2.821475     6.814625     3.179250     0.394810     1.000000\n",
       "max       6.824800    12.951600    17.927400     2.449500     1.000000"
      ]
     },
     "execution_count": 14,
     "metadata": {},
     "output_type": "execute_result"
    }
   ],
   "source": [
    "df.describe()"
   ]
  },
  {
   "cell_type": "code",
   "execution_count": 15,
   "id": "e2ea19d1",
   "metadata": {},
   "outputs": [],
   "source": [
    "X_features = df[[0,1,2,3]].values \n",
    "y_labels = df[4].values"
   ]
  },
  {
   "cell_type": "code",
   "execution_count": 16,
   "id": "bbd8a527",
   "metadata": {},
   "outputs": [
    {
     "data": {
      "text/plain": [
       "array([762, 610])"
      ]
     },
     "execution_count": 16,
     "metadata": {},
     "output_type": "execute_result"
    }
   ],
   "source": [
    "np.bincount(y_labels)"
   ]
  },
  {
   "cell_type": "code",
   "execution_count": 18,
   "id": "89f8efed",
   "metadata": {},
   "outputs": [],
   "source": [
    "class MyDataset(Dataset):\n",
    "    def __init__(self, X, y):\n",
    "        self.labels = torch.tensor(y, dtype=torch.float32)\n",
    "        self.features = torch.tensor(X, dtype=torch.float32)\n",
    "    def __getitem__(self, index):\n",
    "        x = self.features[index]\n",
    "        y = self.labels[index]\n",
    "        return x, y \n",
    "    def __len__(self):\n",
    "        return self.labels.shape[0]"
   ]
  },
  {
   "cell_type": "code",
   "execution_count": 29,
   "id": "0801fcaf",
   "metadata": {},
   "outputs": [],
   "source": [
    "train_size = int(X_features.shape[0]*0.7)\n",
    "valid_size = int(X_features.shape[0]*0.2)\n",
    "test_size =  X_features.shape[0] - (train_size+valid_size)\n"
   ]
  },
  {
   "cell_type": "code",
   "execution_count": 40,
   "id": "e172b20c",
   "metadata": {},
   "outputs": [],
   "source": [
    "dataset = MyDataset(X_features, y_labels)\n",
    "torch.manual_seed(123)\n",
    "train_set, val_set, test_set = torch.utils.data.random_split(\n",
    "    dataset, \n",
    "    lengths=[train_size, valid_size, test_size]\n",
    ")\n",
    "train_loader = DataLoader(\n",
    "    train_set, \n",
    "    shuffle=True,\n",
    "    batch_size=10\n",
    ")\n",
    "val_loader = DataLoader(\n",
    "    val_set, \n",
    "    shuffle=True, \n",
    "    batch_size=10\n",
    "    \n",
    ")\n",
    "test_loader = DataLoader(\n",
    "    test_set, \n",
    "    shuffle=True, \n",
    "    batch_size = 10\n",
    ")"
   ]
  },
  {
   "cell_type": "code",
   "execution_count": 37,
   "id": "ed9ad0db",
   "metadata": {},
   "outputs": [],
   "source": [
    "class LogisticRegression(torch.nn.Module):\n",
    "    def __init__(self, num_features):\n",
    "        super().__init__()\n",
    "        # initialize weight and bias terms\n",
    "        self.linear = torch.nn.Linear(num_features, 1)\n",
    "    def forward (self, x):\n",
    "        logits = self.linear(x)\n",
    "        probas = torch.sigmoid(logits)\n",
    "        return probas"
   ]
  },
  {
   "cell_type": "code",
   "execution_count": 51,
   "id": "cfa11224",
   "metadata": {},
   "outputs": [
    {
     "data": {
      "text/plain": [
       "8"
      ]
     },
     "execution_count": 51,
     "metadata": {},
     "output_type": "execute_result"
    }
   ],
   "source": [
    "len([i for i in range(50, 200, 20)])"
   ]
  },
  {
   "cell_type": "code",
   "execution_count": 53,
   "id": "6c473501",
   "metadata": {},
   "outputs": [],
   "source": [
    "models = {}\n",
    "for num_epochs in range(10, 200, 10):\n",
    "    for lr in np.linspace(0.001, 0.01, 10):\n",
    "        torch.manual_seed(123)\n",
    "        model = LogisticRegression(num_features=4)\n",
    "        optimizer = torch.optim.SGD(model.parameters(), lr=lr)\n",
    "        for epoch in range(num_epochs):\n",
    "            model = model.train()\n",
    "            for batch_idx, (features, labels) in enumerate(train_loader):\n",
    "                probas = model.forward(features)\n",
    "                loss = fn.binary_cross_entropy(probas, labels.view_as(probas))\n",
    "                optimizer.zero_grad()\n",
    "                loss.backward()\n",
    "                optimizer.step()\n",
    "                \n",
    "#                 if not batch_idx % 20: # log every 20th batch\n",
    "#                     print(f'Epoch: {epoch+1:03d}/{num_epochs:03d}'\n",
    "#                            f' | Batch {batch_idx:03d}/{len(train_loader):03d}'\n",
    "#                            f' | Loss: {loss:.2f}')\n",
    "        models[f\"{lr}-{num_epochs}\"] = {\"model\":model, \"loss\":loss}"
   ]
  },
  {
   "cell_type": "code",
   "execution_count": 78,
   "id": "bb0f85cd",
   "metadata": {},
   "outputs": [],
   "source": [
    "def compute_accuracy(model, dataloader):\n",
    "\n",
    "    model = model.eval()\n",
    "    \n",
    "    correct = 0.0\n",
    "    total_examples = 0\n",
    "    \n",
    "    for idx, (features, class_labels) in enumerate(dataloader):\n",
    "        \n",
    "        with torch.inference_mode():\n",
    "            probas = model(features)\n",
    "        \n",
    "        pred = torch.where(probas > 0.5, 1, 0)\n",
    "        lab = class_labels.view(pred.shape).to(pred.dtype)\n",
    "\n",
    "        compare = lab == pred\n",
    "        correct += torch.sum(compare)\n",
    "        total_examples += len(compare)\n",
    "\n",
    "    return correct / total_examples"
   ]
  },
  {
   "cell_type": "code",
   "execution_count": 79,
   "id": "da2e378b",
   "metadata": {},
   "outputs": [],
   "source": [
    "best_model = None\n",
    "accuracy = 0\n",
    "for name, model in models.items():\n",
    "    accuracy_new = compute_accuracy(model[\"model\"], val_loader)\n",
    "    if accuracy_new>accuracy:\n",
    "        best_model=name\n",
    "        accuracy = accuracy_new"
   ]
  },
  {
   "cell_type": "code",
   "execution_count": 80,
   "id": "e247a76e",
   "metadata": {},
   "outputs": [
    {
     "data": {
      "text/plain": [
       "('0.01-60', tensor(0.9964))"
      ]
     },
     "execution_count": 80,
     "metadata": {},
     "output_type": "execute_result"
    }
   ],
   "source": [
    "best_model, accuracy"
   ]
  },
  {
   "cell_type": "code",
   "execution_count": 81,
   "id": "51eb8ca0",
   "metadata": {},
   "outputs": [],
   "source": [
    "best_model=models[best_model][\"model\"]"
   ]
  },
  {
   "cell_type": "code",
   "execution_count": 82,
   "id": "edb56ce8",
   "metadata": {},
   "outputs": [
    {
     "data": {
      "text/plain": [
       "tensor(0.9964)"
      ]
     },
     "execution_count": 82,
     "metadata": {},
     "output_type": "execute_result"
    }
   ],
   "source": [
    "compute_accuracy(best_model, val_loader)"
   ]
  },
  {
   "cell_type": "code",
   "execution_count": 83,
   "id": "e4d6ea81",
   "metadata": {},
   "outputs": [
    {
     "data": {
      "text/plain": [
       "tensor(0.9854)"
      ]
     },
     "execution_count": 83,
     "metadata": {},
     "output_type": "execute_result"
    }
   ],
   "source": [
    "compute_accuracy(best_model, train_loader)"
   ]
  },
  {
   "cell_type": "code",
   "execution_count": 84,
   "id": "9944342f",
   "metadata": {},
   "outputs": [
    {
     "data": {
      "text/plain": [
       "tensor(0.9855)"
      ]
     },
     "execution_count": 84,
     "metadata": {},
     "output_type": "execute_result"
    }
   ],
   "source": [
    "compute_accuracy(best_model, test_loader)"
   ]
  },
  {
   "cell_type": "code",
   "execution_count": null,
   "id": "bfc8bc0c",
   "metadata": {},
   "outputs": [],
   "source": []
  }
 ],
 "metadata": {
  "kernelspec": {
   "display_name": "Python 3 (ipykernel)",
   "language": "python",
   "name": "python3"
  },
  "language_info": {
   "codemirror_mode": {
    "name": "ipython",
    "version": 3
   },
   "file_extension": ".py",
   "mimetype": "text/x-python",
   "name": "python",
   "nbconvert_exporter": "python",
   "pygments_lexer": "ipython3",
   "version": "3.9.12"
  }
 },
 "nbformat": 4,
 "nbformat_minor": 5
}
