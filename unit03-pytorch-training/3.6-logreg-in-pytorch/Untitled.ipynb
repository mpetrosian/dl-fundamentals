{
 "cells": [
  {
   "cell_type": "code",
   "execution_count": 1,
   "id": "3e507c2e",
   "metadata": {},
   "outputs": [],
   "source": [
    "import pandas as pd \n",
    "import numpy as np \n",
    "import torch \n",
    "import torch.nn.functional as fn"
   ]
  },
  {
   "cell_type": "code",
   "execution_count": 2,
   "id": "34909c5e",
   "metadata": {},
   "outputs": [],
   "source": [
    "w_1 = torch.tensor([0.23], requires_grad=True)"
   ]
  },
  {
   "cell_type": "code",
   "execution_count": 3,
   "id": "3f7ddf2d",
   "metadata": {},
   "outputs": [],
   "source": [
    "b = torch.tensor([0.9], requires_grad=True)"
   ]
  },
  {
   "cell_type": "code",
   "execution_count": 4,
   "id": "04ec8908",
   "metadata": {},
   "outputs": [],
   "source": [
    "x_1 = torch.tensor([1.2])\n",
    "y_1 = torch.tensor([1.0])"
   ]
  },
  {
   "cell_type": "code",
   "execution_count": 5,
   "id": "bfa83f93",
   "metadata": {},
   "outputs": [],
   "source": [
    "z = x_1*w_1+b"
   ]
  },
  {
   "cell_type": "code",
   "execution_count": 6,
   "id": "c1a3ab63",
   "metadata": {},
   "outputs": [],
   "source": [
    "a = torch.sigmoid(z)"
   ]
  },
  {
   "cell_type": "code",
   "execution_count": 7,
   "id": "7d5b74e6",
   "metadata": {},
   "outputs": [
    {
     "data": {
      "text/plain": [
       "tensor(0.2689, grad_fn=<BinaryCrossEntropyBackward0>)"
      ]
     },
     "execution_count": 7,
     "metadata": {},
     "output_type": "execute_result"
    }
   ],
   "source": [
    "fn.binary_cross_entropy(a,y_1)"
   ]
  },
  {
   "cell_type": "code",
   "execution_count": 8,
   "id": "9fa085c2",
   "metadata": {},
   "outputs": [
    {
     "data": {
      "text/plain": [
       "array([0.26888928], dtype=float32)"
      ]
     },
     "execution_count": 8,
     "metadata": {},
     "output_type": "execute_result"
    }
   ],
   "source": [
    "-np.log(a.detach().cpu().numpy())"
   ]
  },
  {
   "cell_type": "code",
   "execution_count": 9,
   "id": "fd4aa8ea",
   "metadata": {},
   "outputs": [
    {
     "data": {
      "text/plain": [
       "tensor(0.2689, grad_fn=<BinaryCrossEntropyBackward0>)"
      ]
     },
     "execution_count": 9,
     "metadata": {},
     "output_type": "execute_result"
    }
   ],
   "source": [
    "fn.binary_cross_entropy(a,y_1)"
   ]
  },
  {
   "cell_type": "code",
   "execution_count": 10,
   "id": "0680708c",
   "metadata": {},
   "outputs": [
    {
     "data": {
      "text/plain": [
       "tensor(0.2689, grad_fn=<BinaryCrossEntropyWithLogitsBackward0>)"
      ]
     },
     "execution_count": 10,
     "metadata": {},
     "output_type": "execute_result"
    }
   ],
   "source": [
    "l=fn.binary_cross_entropy_with_logits(z, y_1)\n",
    "l"
   ]
  },
  {
   "cell_type": "code",
   "execution_count": null,
   "id": "cfdb5b3b",
   "metadata": {},
   "outputs": [],
   "source": []
  },
  {
   "cell_type": "code",
   "execution_count": 11,
   "id": "4871b78b",
   "metadata": {},
   "outputs": [],
   "source": [
    "from torch.autograd import grad"
   ]
  },
  {
   "cell_type": "code",
   "execution_count": 12,
   "id": "1c3a94ba",
   "metadata": {},
   "outputs": [
    {
     "data": {
      "text/plain": [
       "(tensor([-0.2829]),)"
      ]
     },
     "execution_count": 12,
     "metadata": {},
     "output_type": "execute_result"
    }
   ],
   "source": [
    "grad(l,w_1,retain_graph=True)"
   ]
  },
  {
   "cell_type": "code",
   "execution_count": 13,
   "id": "c6b38181",
   "metadata": {},
   "outputs": [
    {
     "data": {
      "text/plain": [
       "(tensor([-0.2358]),)"
      ]
     },
     "execution_count": 13,
     "metadata": {},
     "output_type": "execute_result"
    }
   ],
   "source": [
    "grad(l,b, retain_graph=True)"
   ]
  },
  {
   "cell_type": "code",
   "execution_count": 14,
   "id": "9f04d468",
   "metadata": {},
   "outputs": [],
   "source": [
    "l.backward()"
   ]
  },
  {
   "cell_type": "code",
   "execution_count": 15,
   "id": "b2f2c9ff",
   "metadata": {},
   "outputs": [
    {
     "data": {
      "text/plain": [
       "tensor([-0.2829])"
      ]
     },
     "execution_count": 15,
     "metadata": {},
     "output_type": "execute_result"
    }
   ],
   "source": [
    "w_1.grad"
   ]
  },
  {
   "cell_type": "code",
   "execution_count": 16,
   "id": "d1987730",
   "metadata": {},
   "outputs": [
    {
     "data": {
      "text/plain": [
       "tensor([-0.2358])"
      ]
     },
     "execution_count": 16,
     "metadata": {},
     "output_type": "execute_result"
    }
   ],
   "source": [
    "b.grad"
   ]
  },
  {
   "cell_type": "code",
   "execution_count": null,
   "id": "d3e72ac3",
   "metadata": {},
   "outputs": [],
   "source": []
  }
 ],
 "metadata": {
  "kernelspec": {
   "display_name": "Python 3 (ipykernel)",
   "language": "python",
   "name": "python3"
  },
  "language_info": {
   "codemirror_mode": {
    "name": "ipython",
    "version": 3
   },
   "file_extension": ".py",
   "mimetype": "text/x-python",
   "name": "python",
   "nbconvert_exporter": "python",
   "pygments_lexer": "ipython3",
   "version": "3.9.12"
  }
 },
 "nbformat": 4,
 "nbformat_minor": 5
}
