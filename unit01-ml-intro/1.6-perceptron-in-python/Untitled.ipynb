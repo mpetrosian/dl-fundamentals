{
 "cells": [
  {
   "cell_type": "code",
   "execution_count": 42,
   "id": "93adbee7",
   "metadata": {},
   "outputs": [],
   "source": [
    "import pandas as pd\n",
    "import numpy as np \n",
    "from jax import vmap"
   ]
  },
  {
   "cell_type": "code",
   "execution_count": 48,
   "id": "be193595",
   "metadata": {},
   "outputs": [],
   "source": [
    "class PPN:\n",
    "    def __init__(self, n_features):\n",
    "        self.weights = np.zeros(n_features)\n",
    "        self.bias = 0 \n",
    "        self.n_features = n_features\n",
    "    def forward(self, x):\n",
    "        z_score = x @ self.weights+self.bias\n",
    "        return int(z_score>0)\n",
    "        \n",
    "    def update(self,x,y_true):\n",
    "        prediction = self.forward(x)\n",
    "        error = y_true-prediction\n",
    "        self.bias+=error\n",
    "        self.weights = self.weights+x\n",
    "        self.error=error\n",
    "        \n",
    "        \n",
    "def train(model, x_train,y_train, n_epochs):\n",
    "    for i in range(n_epochs):\n",
    "        error_count = 0 \n",
    "        \n",
    "        for x, y in zip(x_train,y_train):\n",
    "            model.update(x,y)\n",
    "            error_count+=abs(model.error)\n",
    "        print(f\"Epoch  {i+1} errors: {error_count}\")"
   ]
  },
  {
   "cell_type": "code",
   "execution_count": 49,
   "id": "25b034ae",
   "metadata": {},
   "outputs": [],
   "source": [
    "df = pd.read_csv(\"perceptron_toydata-truncated.txt\", sep=\"\\t\")\n",
    "x_train = df[[\"x1\", \"x2\"]].values\n",
    "y_train = df[\"label\"].values"
   ]
  },
  {
   "cell_type": "code",
   "execution_count": 50,
   "id": "c0b5e3d9",
   "metadata": {},
   "outputs": [
    {
     "name": "stdout",
     "output_type": "stream",
     "text": [
      "Epoch  1 errors: 1\n",
      "Epoch  2 errors: 3\n",
      "Epoch  3 errors: 1\n",
      "Epoch  4 errors: 0\n",
      "Epoch  5 errors: 0\n"
     ]
    }
   ],
   "source": [
    "ppn = PPN(n_features=2)\n",
    "train(ppn, x_train, y_train, 5)"
   ]
  },
  {
   "cell_type": "code",
   "execution_count": 53,
   "id": "5a5ef4d9",
   "metadata": {},
   "outputs": [],
   "source": [
    "def compute_accuracy(model, x_data, y_data):\n",
    "    correct = 0\n",
    "    for x, y in zip(x_data, y_data):\n",
    "        prediction = model.forward(x)\n",
    "        correct+=prediction==y\n",
    "  \n",
    "    return correct.sum()/len(y_data)"
   ]
  },
  {
   "cell_type": "code",
   "execution_count": 54,
   "id": "d4ace183",
   "metadata": {},
   "outputs": [
    {
     "data": {
      "text/plain": [
       "1.0"
      ]
     },
     "execution_count": 54,
     "metadata": {},
     "output_type": "execute_result"
    }
   ],
   "source": [
    "compute_accuracy(ppn, x_train,y_train)"
   ]
  },
  {
   "cell_type": "code",
   "execution_count": null,
   "id": "145dbde4",
   "metadata": {},
   "outputs": [],
   "source": []
  }
 ],
 "metadata": {
  "kernelspec": {
   "display_name": "Python 3 (ipykernel)",
   "language": "python",
   "name": "python3"
  },
  "language_info": {
   "codemirror_mode": {
    "name": "ipython",
    "version": 3
   },
   "file_extension": ".py",
   "mimetype": "text/x-python",
   "name": "python",
   "nbconvert_exporter": "python",
   "pygments_lexer": "ipython3",
   "version": "3.9.12"
  }
 },
 "nbformat": 4,
 "nbformat_minor": 5
}
