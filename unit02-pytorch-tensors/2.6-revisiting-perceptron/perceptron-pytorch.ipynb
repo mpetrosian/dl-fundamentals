{
 "cells": [
  {
   "cell_type": "code",
   "execution_count": 5,
   "id": "1e99b93e",
   "metadata": {},
   "outputs": [],
   "source": [
    "import pandas as pd \n",
    "import torch \n",
    "import numpy as np \n",
    "import random"
   ]
  },
  {
   "cell_type": "code",
   "execution_count": 2,
   "id": "f1f53482",
   "metadata": {},
   "outputs": [],
   "source": [
    "df = pd.read_csv(\"perceptron_toydata-truncated.txt\", sep = \"\\t\")"
   ]
  },
  {
   "cell_type": "code",
   "execution_count": 29,
   "id": "7a2d7c75",
   "metadata": {},
   "outputs": [],
   "source": [
    "x_train = torch.from_numpy(df[[\"x1\", \"x2\"]].values).to(torch.float32)\n",
    "y_train = torch.from_numpy(df[\"label\"].values).to(torch.float32)"
   ]
  },
  {
   "cell_type": "code",
   "execution_count": 44,
   "id": "0842f776",
   "metadata": {},
   "outputs": [],
   "source": [
    "class PPN:\n",
    "    def __init__(self, n_features):\n",
    "        self.weights = torch.zeros(n_features)\n",
    "        self.bias = torch.tensor([0.0])\n",
    "        \n",
    "    def forward(self, x):\n",
    "        zvec = x.dot(self.weights)+self.bias\n",
    "        prediction = (zvec>0).to(torch.float32)\n",
    "        return prediction \n",
    "    \n",
    "    def update(self, x, y_true):\n",
    "        prediction = self.forward(x)\n",
    "        error = y_true-prediction\n",
    "        self.bias += error\n",
    "        self.weights += x*error\n",
    "        self.error=error"
   ]
  },
  {
   "cell_type": "code",
   "execution_count": 45,
   "id": "644c1a19",
   "metadata": {},
   "outputs": [],
   "source": [
    "def train(model, x_data, y_data, epochs):\n",
    "    for epoch in range(epochs):\n",
    "        error_count = 0 \n",
    "        for x, y in zip(x_data, y_data):\n",
    "            error = model.update(x, y)\n",
    "            error_count += abs(model.error)\n",
    "        print(f\"Epoch {epoch} error {error_count}\")\n",
    "        if error_count==0:\n",
    "            break"
   ]
  },
  {
   "cell_type": "code",
   "execution_count": 46,
   "id": "7ae5108a",
   "metadata": {},
   "outputs": [
    {
     "name": "stdout",
     "output_type": "stream",
     "text": [
      "Epoch 0 error tensor([1.])\n",
      "Epoch 1 error tensor([3.])\n",
      "Epoch 2 error tensor([1.])\n",
      "Epoch 3 error tensor([0.])\n"
     ]
    }
   ],
   "source": [
    "ppn = PPN(2)\n",
    "train(ppn, x_train, y_train, 5)"
   ]
  },
  {
   "cell_type": "code",
   "execution_count": 40,
   "id": "2752cc59",
   "metadata": {},
   "outputs": [
    {
     "data": {
      "text/plain": [
       "tensor([0])"
      ]
     },
     "execution_count": 40,
     "metadata": {},
     "output_type": "execute_result"
    }
   ],
   "source": [
    "ppn.bias"
   ]
  },
  {
   "cell_type": "code",
   "execution_count": null,
   "id": "fc86993e",
   "metadata": {},
   "outputs": [],
   "source": []
  }
 ],
 "metadata": {
  "kernelspec": {
   "display_name": "Python 3 (ipykernel)",
   "language": "python",
   "name": "python3"
  },
  "language_info": {
   "codemirror_mode": {
    "name": "ipython",
    "version": 3
   },
   "file_extension": ".py",
   "mimetype": "text/x-python",
   "name": "python",
   "nbconvert_exporter": "python",
   "pygments_lexer": "ipython3",
   "version": "3.9.12"
  }
 },
 "nbformat": 4,
 "nbformat_minor": 5
}
