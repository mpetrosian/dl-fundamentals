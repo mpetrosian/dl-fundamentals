{
 "cells": [
  {
   "cell_type": "code",
   "execution_count": 15,
   "id": "b14df72e",
   "metadata": {},
   "outputs": [],
   "source": [
    "import torch as tc\n",
    "import random\n",
    "import numpy as np"
   ]
  },
  {
   "cell_type": "code",
   "execution_count": 3,
   "id": "2ecc9986",
   "metadata": {},
   "outputs": [],
   "source": [
    "b  = tc.tensor([0.])\n",
    "x = tc.tensor([1.2,2.3])\n",
    "w = tc.tensor([0.5, 0.7])"
   ]
  },
  {
   "cell_type": "code",
   "execution_count": 6,
   "id": "95508920",
   "metadata": {},
   "outputs": [
    {
     "name": "stdout",
     "output_type": "stream",
     "text": [
      "4.32 µs ± 96.5 ns per loop (mean ± std. dev. of 7 runs, 100,000 loops each)\n"
     ]
    }
   ],
   "source": [
    "%timeit x.dot(w)+b"
   ]
  },
  {
   "cell_type": "code",
   "execution_count": 7,
   "id": "23a6ce97",
   "metadata": {},
   "outputs": [
    {
     "name": "stdout",
     "output_type": "stream",
     "text": [
      "4.53 µs ± 135 ns per loop (mean ± std. dev. of 7 runs, 100,000 loops each)\n"
     ]
    }
   ],
   "source": [
    "%timeit x@w+b"
   ]
  },
  {
   "cell_type": "code",
   "execution_count": 9,
   "id": "7a72a995",
   "metadata": {},
   "outputs": [],
   "source": [
    "x = tc.tensor([random.random() for _ in range(1000)])\n",
    "w = tc.tensor([random.uniform(-0.5, 0.5) for _ in range(1000)])"
   ]
  },
  {
   "cell_type": "code",
   "execution_count": 10,
   "id": "93f60e64",
   "metadata": {},
   "outputs": [
    {
     "name": "stdout",
     "output_type": "stream",
     "text": [
      "4.47 µs ± 119 ns per loop (mean ± std. dev. of 7 runs, 100,000 loops each)\n"
     ]
    }
   ],
   "source": [
    "%timeit x.dot(w)+b"
   ]
  },
  {
   "cell_type": "code",
   "execution_count": 11,
   "id": "4e083693",
   "metadata": {},
   "outputs": [
    {
     "name": "stdout",
     "output_type": "stream",
     "text": [
      "4.62 µs ± 54.7 ns per loop (mean ± std. dev. of 7 runs, 100,000 loops each)\n"
     ]
    }
   ],
   "source": [
    "%timeit x@w+b"
   ]
  },
  {
   "cell_type": "code",
   "execution_count": 27,
   "id": "d4575f39",
   "metadata": {},
   "outputs": [],
   "source": [
    "X = tc.tensor([[1.1, 2.0], [4.5, 9.0], [1,1]])"
   ]
  },
  {
   "cell_type": "code",
   "execution_count": 48,
   "id": "9cc2ba70",
   "metadata": {},
   "outputs": [],
   "source": [
    "w = tc.tensor([-0.5, 0.5])"
   ]
  },
  {
   "cell_type": "code",
   "execution_count": 49,
   "id": "ba6fffaf",
   "metadata": {},
   "outputs": [
    {
     "data": {
      "text/plain": [
       "torch.Size([2])"
      ]
     },
     "execution_count": 49,
     "metadata": {},
     "output_type": "execute_result"
    }
   ],
   "source": [
    "w.shape"
   ]
  },
  {
   "cell_type": "code",
   "execution_count": 30,
   "id": "214fd768",
   "metadata": {},
   "outputs": [
    {
     "data": {
      "text/plain": [
       "tensor([0.4500, 2.2500, 0.0000])"
      ]
     },
     "execution_count": 30,
     "metadata": {},
     "output_type": "execute_result"
    }
   ],
   "source": [
    "X.matmul(w)"
   ]
  },
  {
   "cell_type": "markdown",
   "id": "665c4185",
   "metadata": {},
   "source": [
    "# <font color='red'> tensor.dot works only for 1d tensors use tensor.matul for higher dimensional tensors\n",
    "</font> \n"
   ]
  },
  {
   "cell_type": "markdown",
   "id": "0978e254",
   "metadata": {},
   "source": [
    "# multiplying matrices with matrices"
   ]
  },
  {
   "cell_type": "code",
   "execution_count": 38,
   "id": "0effef9d",
   "metadata": {},
   "outputs": [],
   "source": [
    "W = tc.tensor([[0.3, 0.4, 0.5], [0.2, 0.5, 0.1]]).T"
   ]
  },
  {
   "cell_type": "code",
   "execution_count": 39,
   "id": "d6fc49e7",
   "metadata": {},
   "outputs": [
    {
     "data": {
      "text/plain": [
       "tensor([[0.3000, 0.2000],\n",
       "        [0.4000, 0.5000],\n",
       "        [0.5000, 0.1000]])"
      ]
     },
     "execution_count": 39,
     "metadata": {},
     "output_type": "execute_result"
    }
   ],
   "source": [
    "W"
   ]
  },
  {
   "cell_type": "code",
   "execution_count": 36,
   "id": "6bc5a525",
   "metadata": {},
   "outputs": [
    {
     "data": {
      "text/plain": [
       "tensor([[1.1000, 2.0000],\n",
       "        [4.5000, 9.0000],\n",
       "        [1.0000, 1.0000]])"
      ]
     },
     "execution_count": 36,
     "metadata": {},
     "output_type": "execute_result"
    }
   ],
   "source": [
    "X"
   ]
  },
  {
   "cell_type": "code",
   "execution_count": 40,
   "id": "be05ef78",
   "metadata": {},
   "outputs": [
    {
     "data": {
      "text/plain": [
       "tensor([[0.7300, 1.4400, 0.7500],\n",
       "        [3.1500, 6.3000, 3.1500],\n",
       "        [0.5000, 0.9000, 0.6000]])"
      ]
     },
     "execution_count": 40,
     "metadata": {},
     "output_type": "execute_result"
    }
   ],
   "source": [
    "X.matmul(w.T)"
   ]
  },
  {
   "cell_type": "code",
   "execution_count": 41,
   "id": "4a284a55",
   "metadata": {},
   "outputs": [
    {
     "data": {
      "text/plain": [
       "tensor([[0.7300, 1.4400, 0.7500],\n",
       "        [3.1500, 6.3000, 3.1500],\n",
       "        [0.5000, 0.9000, 0.6000]])"
      ]
     },
     "execution_count": 41,
     "metadata": {},
     "output_type": "execute_result"
    }
   ],
   "source": [
    "tc.matmul(X, W.T)"
   ]
  },
  {
   "cell_type": "markdown",
   "id": "b00f948e",
   "metadata": {},
   "source": [
    "# broadcasting"
   ]
  },
  {
   "cell_type": "code",
   "execution_count": 46,
   "id": "3699758e",
   "metadata": {},
   "outputs": [
    {
     "data": {
      "text/plain": [
       "tensor([[ 2.1000,  4.0000],\n",
       "        [ 5.5000, 11.0000],\n",
       "        [ 2.0000,  3.0000]], dtype=torch.float64)"
      ]
     },
     "execution_count": 46,
     "metadata": {},
     "output_type": "execute_result"
    }
   ],
   "source": [
    "X + np.array([1,2])"
   ]
  },
  {
   "cell_type": "code",
   "execution_count": 45,
   "id": "e42e44c8",
   "metadata": {},
   "outputs": [
    {
     "data": {
      "text/plain": [
       "tensor([[ 2.1000,  6.5000,  4.0000],\n",
       "        [ 3.0000, 11.0000,  4.0000]], dtype=torch.float64)"
      ]
     },
     "execution_count": 45,
     "metadata": {},
     "output_type": "execute_result"
    }
   ],
   "source": [
    "X+np.array([1, 2, 3])"
   ]
  },
  {
   "cell_type": "code",
   "execution_count": 47,
   "id": "42641653",
   "metadata": {},
   "outputs": [
    {
     "data": {
      "text/plain": [
       "12.009999999999998"
      ]
     },
     "execution_count": 47,
     "metadata": {},
     "output_type": "execute_result"
    }
   ],
   "source": [
    "1.2*2.1-5.1*3.1+4.6*5.5"
   ]
  },
  {
   "cell_type": "code",
   "execution_count": null,
   "id": "a02acd2c",
   "metadata": {},
   "outputs": [],
   "source": []
  }
 ],
 "metadata": {
  "kernelspec": {
   "display_name": "Python 3 (ipykernel)",
   "language": "python",
   "name": "python3"
  },
  "language_info": {
   "codemirror_mode": {
    "name": "ipython",
    "version": 3
   },
   "file_extension": ".py",
   "mimetype": "text/x-python",
   "name": "python",
   "nbconvert_exporter": "python",
   "pygments_lexer": "ipython3",
   "version": "3.9.12"
  }
 },
 "nbformat": 4,
 "nbformat_minor": 5
}
