{
 "cells": [
  {
   "cell_type": "code",
   "execution_count": 4,
   "id": "00132446",
   "metadata": {},
   "outputs": [],
   "source": [
    "import torch as tc\n",
    "import numpy as np "
   ]
  },
  {
   "cell_type": "code",
   "execution_count": 11,
   "id": "fd0af894",
   "metadata": {},
   "outputs": [],
   "source": [
    "tens = tc.tensor([np.arange(5), np.arange(5,10)])"
   ]
  },
  {
   "cell_type": "code",
   "execution_count": 12,
   "id": "ffdbd42e",
   "metadata": {},
   "outputs": [
    {
     "data": {
      "text/plain": [
       "tensor([[0, 1, 2, 3, 4],\n",
       "        [5, 6, 7, 8, 9]])"
      ]
     },
     "execution_count": 12,
     "metadata": {},
     "output_type": "execute_result"
    }
   ],
   "source": [
    "tens"
   ]
  },
  {
   "cell_type": "code",
   "execution_count": 13,
   "id": "d0c1db4d",
   "metadata": {},
   "outputs": [
    {
     "data": {
      "text/plain": [
       "torch.Size([2, 5])"
      ]
     },
     "execution_count": 13,
     "metadata": {},
     "output_type": "execute_result"
    }
   ],
   "source": [
    "tens.shape"
   ]
  },
  {
   "cell_type": "markdown",
   "id": "09a9de36",
   "metadata": {},
   "source": [
    "# from_numpy() \n",
    "uses the same array from the memory, without creating a copy of it!"
   ]
  },
  {
   "cell_type": "code",
   "execution_count": 24,
   "id": "73ef60eb",
   "metadata": {},
   "outputs": [
    {
     "data": {
      "text/plain": [
       "tensor([[0., 1., 2., 3., 4.],\n",
       "        [5., 6., 7., 8., 9.]], dtype=torch.float64)"
      ]
     },
     "execution_count": 24,
     "metadata": {},
     "output_type": "execute_result"
    }
   ],
   "source": [
    "tens = tc.from_numpy(np.array([np.arange(5).astype(float), np.arange(5,10).astype(float)]))\n",
    "tens"
   ]
  },
  {
   "cell_type": "markdown",
   "id": "7231ae62",
   "metadata": {},
   "source": [
    "# to()\n",
    "changes the dtype"
   ]
  },
  {
   "cell_type": "code",
   "execution_count": 26,
   "id": "fe74f0db",
   "metadata": {},
   "outputs": [],
   "source": [
    "tens = tens.to(tc.float32)"
   ]
  },
  {
   "cell_type": "code",
   "execution_count": 27,
   "id": "b71ad09f",
   "metadata": {},
   "outputs": [
    {
     "data": {
      "text/plain": [
       "tensor([[0., 1., 2., 3., 4.],\n",
       "        [5., 6., 7., 8., 9.]])"
      ]
     },
     "execution_count": 27,
     "metadata": {},
     "output_type": "execute_result"
    }
   ],
   "source": [
    "tens"
   ]
  },
  {
   "cell_type": "code",
   "execution_count": 29,
   "id": "6d26808d",
   "metadata": {},
   "outputs": [
    {
     "data": {
      "text/plain": [
       "device(type='cpu')"
      ]
     },
     "execution_count": 29,
     "metadata": {},
     "output_type": "execute_result"
    }
   ],
   "source": [
    "tens.device"
   ]
  },
  {
   "cell_type": "markdown",
   "id": "8373a7e1",
   "metadata": {},
   "source": [
    "# view()\n",
    "reshapes the tensor"
   ]
  },
  {
   "cell_type": "code",
   "execution_count": 33,
   "id": "fa4e7b10",
   "metadata": {},
   "outputs": [
    {
     "data": {
      "text/plain": [
       "tensor([[0., 1.],\n",
       "        [2., 3.],\n",
       "        [4., 5.],\n",
       "        [6., 7.],\n",
       "        [8., 9.]])"
      ]
     },
     "execution_count": 33,
     "metadata": {},
     "output_type": "execute_result"
    }
   ],
   "source": [
    "tens.view((5,2))"
   ]
  },
  {
   "cell_type": "code",
   "execution_count": 36,
   "id": "3bee1b54",
   "metadata": {},
   "outputs": [
    {
     "data": {
      "text/plain": [
       "tensor([[0., 1., 2., 3., 4.],\n",
       "        [5., 6., 7., 8., 9.]])"
      ]
     },
     "execution_count": 36,
     "metadata": {},
     "output_type": "execute_result"
    }
   ],
   "source": [
    "tens.view((-1,5))"
   ]
  },
  {
   "cell_type": "code",
   "execution_count": 37,
   "id": "861a1e0e",
   "metadata": {},
   "outputs": [
    {
     "data": {
      "text/plain": [
       "tensor([[0., 5.],\n",
       "        [1., 6.],\n",
       "        [2., 7.],\n",
       "        [3., 8.],\n",
       "        [4., 9.]])"
      ]
     },
     "execution_count": 37,
     "metadata": {},
     "output_type": "execute_result"
    }
   ],
   "source": [
    "tens.T"
   ]
  },
  {
   "cell_type": "code",
   "execution_count": 40,
   "id": "8966c8df",
   "metadata": {},
   "outputs": [
    {
     "data": {
      "text/plain": [
       "[[0.0, 1.0, 2.0, 3.0, 4.0], [5.0, 6.0, 7.0, 8.0, 9.0]]"
      ]
     },
     "execution_count": 40,
     "metadata": {},
     "output_type": "execute_result"
    }
   ],
   "source": [
    "tens.tolist()"
   ]
  },
  {
   "cell_type": "code",
   "execution_count": 44,
   "id": "264b05a5",
   "metadata": {},
   "outputs": [
    {
     "data": {
      "text/plain": [
       "array([[0., 1., 2., 3., 4.],\n",
       "       [5., 6., 7., 8., 9.]], dtype=float32)"
      ]
     },
     "execution_count": 44,
     "metadata": {},
     "output_type": "execute_result"
    }
   ],
   "source": [
    "tens.cpu().detach().numpy()"
   ]
  },
  {
   "cell_type": "code",
   "execution_count": null,
   "id": "6c618c08",
   "metadata": {},
   "outputs": [],
   "source": []
  }
 ],
 "metadata": {
  "kernelspec": {
   "display_name": "Python 3 (ipykernel)",
   "language": "python",
   "name": "python3"
  },
  "language_info": {
   "codemirror_mode": {
    "name": "ipython",
    "version": 3
   },
   "file_extension": ".py",
   "mimetype": "text/x-python",
   "name": "python",
   "nbconvert_exporter": "python",
   "pygments_lexer": "ipython3",
   "version": "3.9.12"
  }
 },
 "nbformat": 4,
 "nbformat_minor": 5
}
